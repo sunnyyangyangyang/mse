{
 "cells": [
  {
   "cell_type": "markdown",
   "id": "72a6296e",
   "metadata": {},
   "source": [
    "## Now let's practice what we have learnt by trying out the following excercise!\n",
    "Remeber, Google and Stackoverflow are your friends!"
   ]
  },
  {
   "cell_type": "markdown",
   "id": "ab381c08",
   "metadata": {},
   "source": [
    "### <span style=\"color: red\"> Task 1:</span> The text file you downloaded earlier ('E1_T1.csv') contains ten words. Read the words into a list and use a \"for loop\" to print out each word. Also print the words as a full sentence (i.e., a single string), as well as the data type of the sentence."
   ]
  },
  {
   "cell_type": "markdown",
   "id": "8dd56675",
   "metadata": {},
   "source": [
    "### <span style=\"color: blue\"> Solution:</span>"
   ]
  },
  {
   "cell_type": "code",
   "execution_count": 33,
   "id": "41e6e9dd",
   "metadata": {},
   "outputs": [
    {
     "name": "stdout",
     "output_type": "stream",
     "text": [
      "This task is too simple , I want more challenges\n",
      "This\n",
      "task\n",
      "is\n",
      "too\n",
      "simple\n",
      ",\n",
      "I\n",
      "want\n",
      "more\n",
      "challenges\n",
      "<class 'str'>\n"
     ]
    }
   ],
   "source": [
    "import csv\n",
    "with open('E1_T1.csv') as csvfile:\n",
    "# Simulate reading from a CSV file\n",
    "    csv_reader = csv.reader(csvfile)\n",
    "\n",
    "    # Read the row from the CSV\n",
    "    for row in csv_reader:\n",
    "        # Join the words into a single sentence and remove unwanted characters\n",
    "        sentence = ' '.join(row)\n",
    "        print(sentence)\n",
    "        for word in sentence.split(): print(word)\n",
    "        print(type(sentence))"
   ]
  },
  {
   "cell_type": "markdown",
   "id": "a5cfa193",
   "metadata": {},
   "source": [
    "### <span style=\"color: red\"> Task 2:</span> Create a function that finds the largest number in a list. Don not use built-in function. Show you function by using a random number generator to create the inputs."
   ]
  },
  {
   "cell_type": "markdown",
   "id": "32bd35de",
   "metadata": {},
   "source": [
    "### <span style=\"color: blue\"> Solution:</span>"
   ]
  },
  {
   "cell_type": "code",
   "execution_count": 35,
   "id": "d41e2961",
   "metadata": {},
   "outputs": [
    {
     "name": "stdout",
     "output_type": "stream",
     "text": [
      "100\n"
     ]
    }
   ],
   "source": [
    "from math import inf\n",
    "def max_list(a:list)->int:\n",
    "    maximum = -inf\n",
    "    for element in a:\n",
    "        if element>maximum:\n",
    "            maximum = element\n",
    "    return maximum\n",
    "import random\n",
    "\n",
    "def generate_random_numbers(count, start, end):\n",
    "    return [random.randint(start, end) for _ in range(count)]\n",
    "\n",
    "# Example usage: generate a list of 10 random numbers between 1 and 100\n",
    "random_numbers = generate_random_numbers(100, 1, 100)\n",
    "print(max_list(random_numbers))\n"
   ]
  },
  {
   "cell_type": "markdown",
   "id": "f2eb8802",
   "metadata": {},
   "source": [
    "### <span style=\"color: red\"> Task 3:</span> Create a class named \"Alloys\". Initilize it with name and number of elements. In class \"Alloys\", write a method named \"info\", which prints \"\\<name> has \\<num_of_elements> elements\". For example, for Ti6Al4V, it will print \"Ti6Al4V has 3 elements\". Then create an inheritance calss of \"Alloys\" called \"HEAs\" (that's High Entropy Alloys). Create an instance from HEAs and print it's info. You can use CoCrFeMnNi, which has 5 elements."
   ]
  },
  {
   "cell_type": "markdown",
   "id": "ddf9378a",
   "metadata": {},
   "source": [
    "### <span style=\"color: blue\"> Solution:</span>"
   ]
  },
  {
   "cell_type": "code",
   "execution_count": null,
   "id": "cdd7a0c9",
   "metadata": {},
   "outputs": [],
   "source": []
  },
  {
   "cell_type": "markdown",
   "id": "73ef4f1c",
   "metadata": {},
   "source": [
    "### <span style=\"color: red\"> Task 4:</span> Write a function to check if an alloy’s composition is normalized. If it is not, your function should normalize it and return the normalized alloy name. E.g., if the input is $A_{1}B_{2}C_{3}$, your function should output A0.17B0.33C0.5. \n",
    "Bonus question: your function can run a check on the input name to check if there is any “not elements” in the name. Hint: you can try the Mendeleev python library for a complete list of elements."
   ]
  },
  {
   "cell_type": "markdown",
   "id": "bb11e0c8",
   "metadata": {},
   "source": [
    "### <span style=\"color: blue\"> Solution:</span>"
   ]
  },
  {
   "cell_type": "code",
   "execution_count": null,
   "id": "7ee24a9f",
   "metadata": {},
   "outputs": [],
   "source": []
  },
  {
   "cell_type": "markdown",
   "id": "e94e3bc8",
   "metadata": {},
   "source": [
    "### <span style=\"color: red\"> Task 5:</span> Some errors are presented in the code below. Can you identify and corret them?"
   ]
  },
  {
   "cell_type": "code",
   "execution_count": null,
   "id": "a6a81752",
   "metadata": {},
   "outputs": [],
   "source": [
    "import os\n",
    "import csv\n",
    "\n",
    "current_dir = os.getcwd()\n",
    "filename = current_dir+'E1_T1.csv'\n",
    "with open(filename, 'r', newline=') as f:\n",
    "    csv_file = csv.reader(f)\n",
    "    data = list(csv_file)\n",
    "sentence=''\n",
    "for word in data:\n",
    "    sentence = sentence + ' '+ word\n",
    "print(sentence)\n",
    "print(type(sentence))"
   ]
  },
  {
   "cell_type": "markdown",
   "id": "cb7c7ff7",
   "metadata": {},
   "source": [
    "### <span style=\"color: red\"> Task 6:</span> Who has the most runner-up (i.e., second place) finishes in the histroy of NHL? Create a table with the teams and their runner-up finishes. The table must contain the the following columns:\n",
    "\n",
    "-Team\n",
    "\n",
    "-Total number of runner-up finishes\n",
    "\n",
    "-Years [list of the years they finished as a runner-up]\n",
    "\n",
    "You have to use Jupyter for the practice and produce a notebook with good readability. Data stored in 'Stanely_cup_winners_by_year.xlsx'."
   ]
  },
  {
   "cell_type": "markdown",
   "id": "989426f7",
   "metadata": {},
   "source": [
    "### <span style=\"color: blue\"> Solution:</span>"
   ]
  },
  {
   "cell_type": "code",
   "execution_count": null,
   "id": "e6adf6b4",
   "metadata": {},
   "outputs": [],
   "source": []
  },
  {
   "cell_type": "markdown",
   "id": "d197588b",
   "metadata": {},
   "source": [
    "### <span style=\"color: red\"> Task 7:</span> With the help of matminer, 1. Retrive the 'steel_strength' dataset into a dataframe and clean your dataset (i.e., do some basic data exploration and analysis work on your data. For instance, check the statistics of the dataset, check for NaNs, drop duplicated data entries etc. It is alway the first thing to do before you start working on a dataset.) if needed; 2. Featurize the compositions of the materials; and 3. Perform correlation analysis and drop feature(s) with a coefficient greater than abs(0.8) from your dataframe."
   ]
  },
  {
   "cell_type": "markdown",
   "id": "a1c551d3",
   "metadata": {},
   "source": [
    "### <span style=\"color: blue\"> Solution:</span>"
   ]
  },
  {
   "cell_type": "code",
   "execution_count": null,
   "id": "6bb5c7e3",
   "metadata": {},
   "outputs": [],
   "source": []
  }
 ],
 "metadata": {
  "kernelspec": {
   "display_name": "Python 3 (ipykernel)",
   "language": "python",
   "name": "python3"
  },
  "language_info": {
   "codemirror_mode": {
    "name": "ipython",
    "version": 3
   },
   "file_extension": ".py",
   "mimetype": "text/x-python",
   "name": "python",
   "nbconvert_exporter": "python",
   "pygments_lexer": "ipython3",
   "version": "3.12.6"
  }
 },
 "nbformat": 4,
 "nbformat_minor": 5
}
