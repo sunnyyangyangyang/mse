{
  "cells": [
    {
      "cell_type": "markdown",
      "id": "72a6296e",
      "metadata": {
        "id": "72a6296e"
      },
      "source": [
        "## Now let's practice what we have learnt by trying out the following excercise!\n",
        "Remeber, Google and Stackoverflow are your friends!"
      ]
    },
    {
      "cell_type": "markdown",
      "id": "ab381c08",
      "metadata": {
        "id": "ab381c08"
      },
      "source": [
        "### <span style=\"color: red\"> Task 1:</span> The text file you downloaded earlier ('E1_T1.csv') contains ten words. Read the words into a list and use a \"for loop\" to print out each word. Also print the words as a full sentence (i.e., a single string), as well as the data type of the sentence."
      ]
    },
    {
      "cell_type": "markdown",
      "id": "8dd56675",
      "metadata": {
        "id": "8dd56675"
      },
      "source": [
        "### <span style=\"color: blue\"> Solution:</span>"
      ]
    },
    {
      "cell_type": "code",
      "execution_count": null,
      "id": "41e6e9dd",
      "metadata": {
        "id": "41e6e9dd",
        "outputId": "21a31325-d1d9-41fc-bc47-8786aa35e1cf"
      },
      "outputs": [
        {
          "name": "stdout",
          "output_type": "stream",
          "text": [
            "This task is too simple , I want more challenges\n",
            "This\n",
            "task\n",
            "is\n",
            "too\n",
            "simple\n",
            ",\n",
            "I\n",
            "want\n",
            "more\n",
            "challenges\n",
            "<class 'str'>\n"
          ]
        }
      ],
      "source": [
        "import csv\n",
        "with open('E1_T1.csv') as csvfile:\n",
        "# Simulate reading from a CSV file\n",
        "    csv_reader = csv.reader(csvfile)\n",
        "\n",
        "    # Read the row from the CSV\n",
        "    for row in csv_reader:\n",
        "        # Join the words into a single sentence and remove unwanted characters\n",
        "        sentence = ' '.join(row)\n",
        "        print(sentence)\n",
        "        for word in sentence.split(): print(word)\n",
        "        print(type(sentence))"
      ]
    },
    {
      "cell_type": "markdown",
      "id": "a5cfa193",
      "metadata": {
        "id": "a5cfa193"
      },
      "source": [
        "### <span style=\"color: red\"> Task 2:</span> Create a function that finds the largest number in a list. Don not use built-in function. Show you function by using a random number generator to create the inputs."
      ]
    },
    {
      "cell_type": "markdown",
      "id": "32bd35de",
      "metadata": {
        "id": "32bd35de"
      },
      "source": [
        "### <span style=\"color: blue\"> Solution:</span>"
      ]
    },
    {
      "cell_type": "code",
      "execution_count": null,
      "id": "d41e2961",
      "metadata": {
        "id": "d41e2961",
        "outputId": "26469a5c-1b6d-4565-e6b8-4859c8ea7e9b"
      },
      "outputs": [
        {
          "name": "stdout",
          "output_type": "stream",
          "text": [
            "100\n"
          ]
        }
      ],
      "source": [
        "from math import inf\n",
        "def max_list(a:list)->int:\n",
        "    maximum = -inf\n",
        "    for element in a:\n",
        "        if element>maximum:\n",
        "            maximum = element\n",
        "    return maximum\n",
        "import random\n",
        "\n",
        "def generate_random_numbers(count, start, end):\n",
        "    return [random.randint(start, end) for _ in range(count)]\n",
        "\n",
        "# Example usage: generate a list of 10 random numbers between 1 and 100\n",
        "random_numbers = generate_random_numbers(100, 1, 100)\n",
        "print(max_list(random_numbers))\n"
      ]
    },
    {
      "cell_type": "markdown",
      "id": "f2eb8802",
      "metadata": {
        "id": "f2eb8802"
      },
      "source": [
        "### <span style=\"color: red\"> Task 3:</span> Create a class named \"Alloys\". Initilize it with name and number of elements. In class \"Alloys\", write a method named \"info\", which prints \"\\<name> has \\<num_of_elements> elements\". For example, for Ti6Al4V, it will print \"Ti6Al4V has 3 elements\". Then create an inheritance calss of \"Alloys\" called \"HEAs\" (that's High Entropy Alloys). Create an instance from HEAs and print it's info. You can use CoCrFeMnNi, which has 5 elements."
      ]
    },
    {
      "cell_type": "markdown",
      "id": "ddf9378a",
      "metadata": {
        "id": "ddf9378a"
      },
      "source": [
        "### <span style=\"color: blue\"> Solution:</span>"
      ]
    },
    {
      "cell_type": "code",
      "execution_count": null,
      "id": "cdd7a0c9",
      "metadata": {
        "id": "cdd7a0c9",
        "outputId": "9090df87-3d15-4b45-daea-63df1123938d"
      },
      "outputs": [
        {
          "name": "stdout",
          "output_type": "stream",
          "text": [
            "CoCrFeMnNi  has  5 elements\n"
          ]
        }
      ],
      "source": [
        "class Alloys:\n",
        "    def __init__(self,name:str=None,numel:int=None,compositon:list[int]=None) -> None:\n",
        "        self.name = name\n",
        "        self.numel = numel\n",
        "        self.composition = compositon\n",
        "\n",
        "    def info(self):\n",
        "        print(self.name,' has ',self.numel,'elements')\n",
        "\n",
        "class HEAs(Alloys):\n",
        "    def __init__(self, name: str, numel: int) -> None:\n",
        "        super().__init__(name, numel)\n",
        "\n",
        "ccfmn = HEAs('CoCrFeMnNi',5)\n",
        "ccfmn.info()\n",
        "\n"
      ]
    },
    {
      "cell_type": "markdown",
      "id": "73ef4f1c",
      "metadata": {
        "id": "73ef4f1c"
      },
      "source": [
        "### <span style=\"color: red\"> Task 4:</span> Write a function to check if an alloy’s composition is normalized. If it is not, your function should normalize it and return the normalized alloy name. E.g., if the input is $A_{1}B_{2}C_{3}$, your function should output A0.17B0.33C0.5.\n",
        "Bonus question: your function can run a check on the input name to check if there is any “not elements” in the name. Hint: you can try the Mendeleev python library for a complete list of elements."
      ]
    },
    {
      "cell_type": "markdown",
      "id": "bb11e0c8",
      "metadata": {
        "id": "bb11e0c8"
      },
      "source": [
        "### <span style=\"color: blue\"> Solution:</span>"
      ]
    },
    {
      "cell_type": "code",
      "execution_count": null,
      "id": "7ee24a9f",
      "metadata": {
        "id": "7ee24a9f",
        "outputId": "61fc1ddb-5736-4898-94c2-cd79a63cd52d"
      },
      "outputs": [
        {
          "name": "stdout",
          "output_type": "stream",
          "text": [
            "it is not normalized, normalized value: abc [0.16666666666666666, 0.3333333333333333, 0.5]\n"
          ]
        }
      ],
      "source": [
        "def check_normalized(alloy:Alloys)->str:\n",
        "    if sum(alloy.composition) != 1:\n",
        "        total = sum(alloy.composition)\n",
        "        print('it is not normalized, normalized value:',alloy.name,[i/total for i in alloy.composition])\n",
        "    else:\n",
        "        print('it is normalized')\n",
        "\n",
        "abc = Alloys('abc',3,[1,2,3])\n",
        "check_normalized(abc)"
      ]
    },
    {
      "cell_type": "markdown",
      "id": "e94e3bc8",
      "metadata": {
        "id": "e94e3bc8"
      },
      "source": [
        "### <span style=\"color: red\"> Task 5:</span> Some errors are presented in the code below. Can you identify and corret them?"
      ]
    },
    {
      "cell_type": "code",
      "execution_count": null,
      "id": "a6a81752",
      "metadata": {
        "id": "a6a81752",
        "outputId": "faf7b99a-dd62-4edf-a78e-99e7f5ad0d41"
      },
      "outputs": [
        {
          "name": "stdout",
          "output_type": "stream",
          "text": [
            "This task is too simple , I want more challenges\n",
            "<class 'str'>\n"
          ]
        },
        {
          "name": "stderr",
          "output_type": "stream",
          "text": [
            "<>:5: SyntaxWarning: invalid escape sequence '\\E'\n",
            "<>:5: SyntaxWarning: invalid escape sequence '\\E'\n",
            "C:\\Users\\yxh99\\AppData\\Local\\Temp\\ipykernel_9852\\2432689810.py:5: SyntaxWarning: invalid escape sequence '\\E'\n",
            "  filename = current_dir+'\\E1_T1.csv'\n"
          ]
        }
      ],
      "source": [
        "import os\n",
        "import csv\n",
        "\n",
        "current_dir = os.getcwd()\n",
        "filename = current_dir+'\\E1_T1.csv'\n",
        "with open(filename, 'r') as f:\n",
        "    csv_file = csv.reader(f)\n",
        "    data = list(csv_file)\n",
        "sentence=''\n",
        "for word in data:\n",
        "    sentence = sentence + ' '.join(word)#string can not add with list\n",
        "print(sentence)\n",
        "print(type(sentence))"
      ]
    },
    {
      "cell_type": "markdown",
      "id": "cb7c7ff7",
      "metadata": {
        "id": "cb7c7ff7"
      },
      "source": [
        "### <span style=\"color: red\"> Task 6:</span> Who has the most runner-up (i.e., second place) finishes in the histroy of NHL? Create a table with the teams and their runner-up finishes. The table must contain the the following columns:\n",
        "\n",
        "-Team\n",
        "\n",
        "-Total number of runner-up finishes\n",
        "\n",
        "-Years [list of the years they finished as a runner-up]\n",
        "\n",
        "You have to use Jupyter for the practice and produce a notebook with good readability. Data stored in 'Stanely_cup_winners_by_year.xlsx'."
      ]
    },
    {
      "cell_type": "markdown",
      "id": "989426f7",
      "metadata": {
        "id": "989426f7"
      },
      "source": [
        "### <span style=\"color: blue\"> Solution:</span>"
      ]
    },
    {
      "cell_type": "code",
      "execution_count": 2,
      "id": "e6adf6b4",
      "metadata": {
        "colab": {
          "base_uri": "https://localhost:8080/"
        },
        "id": "e6adf6b4",
        "outputId": "546a1427-bf55-4e49-a366-5fba50ca6c6e"
      },
      "outputs": [
        {
          "name": "stdout",
          "output_type": "stream",
          "text": [
            "                       Team  Total number of runner-up finishes  \\\n",
            "0             Boston Bruins                                  14   \n",
            "1            Buffalo Sabres                                   2   \n",
            "2            Calgary Flames                                   2   \n",
            "3            Calgary Tigers                                   1   \n",
            "4       Carolina Hurricanes                                   1   \n",
            "5       Chicago Black Hawks                                   1   \n",
            "6        Chicago Blackhawks                                   6   \n",
            "7              Dallas Stars                                   2   \n",
            "8         Detroit Red Wings                                  13   \n",
            "9          Edmonton Eskimos                                   1   \n",
            "10          Edmonton Oilers                                   2   \n",
            "11         Florida Panthers                                   1   \n",
            "12        Los Angeles Kings                                   1   \n",
            "13  Mighty Ducks of Anaheim                                   1   \n",
            "14    Minnesota North Stars                                   2   \n",
            "15        Moncton Victories                                   1   \n",
            "16       Montreal Canadiens                                   9   \n",
            "17         Montreal Maroons                                   1   \n",
            "18      Nashville Predators                                   1   \n",
            "19        New Jersey Devils                                   2   \n",
            "20       New York Islanders                                   1   \n",
            "21         New York Rangers                                   7   \n",
            "22          Ottawa Senators                                   2   \n",
            "23      Philadelphia Flyers                                   6   \n",
            "24      Pittsburgh Penguins                                   1   \n",
            "25     Port Arthur Bearcats                                   1   \n",
            "26        Portland Rosebuds                                   1   \n",
            "27          San Jose Sharks                                   1   \n",
            "28    Seattle Metropolitans                                   1   \n",
            "29          St. Louis Blues                                   3   \n",
            "30            Sydney Miners                                   1   \n",
            "31      Tampa Bay Lightning                                   1   \n",
            "32      Toronto Maple Leafs                                   8   \n",
            "33        Vancouver Canucks                                   3   \n",
            "34   Vancouver Millionaires                                   3   \n",
            "35     Vegas Golden Knights                                   1   \n",
            "36         Victoria Cougars                                   2   \n",
            "37      Washington Capitals                                   1   \n",
            "\n",
            "                                                Years  \n",
            "0   [2019, 2013, 1990, 1988, 1978, 1977, 1974, 195...  \n",
            "1                                        [1999, 1975]  \n",
            "2                                        [2004, 1986]  \n",
            "3                                              [1924]  \n",
            "4                                              [2002]  \n",
            "5                                              [1931]  \n",
            "6                [1992, 1973, 1971, 1965, 1962, 1944]  \n",
            "7                                        [2020, 2000]  \n",
            "8   [2009, 1995, 1966, 1964, 1963, 1961, 1956, 194...  \n",
            "9                                              [1923]  \n",
            "10                                       [2006, 1983]  \n",
            "11                                             [1996]  \n",
            "12                                             [1993]  \n",
            "13                                             [2003]  \n",
            "14                                       [1991, 1981]  \n",
            "15                                             [1912]  \n",
            "16  [1989, 1967, 1955, 1954, 1952, 1951, 1947, 192...  \n",
            "17                                             [1928]  \n",
            "18                                             [2017]  \n",
            "19                                       [2012, 2001]  \n",
            "20                                             [1984]  \n",
            "21         [2014, 1979, 1972, 1950, 1937, 1932, 1929]  \n",
            "22                                       [2007, 1915]  \n",
            "23               [2010, 1997, 1987, 1985, 1980, 1976]  \n",
            "24                                             [2008]  \n",
            "25                                             [1911]  \n",
            "26                                             [1916]  \n",
            "27                                             [2016]  \n",
            "28                                             [1920]  \n",
            "29                                 [1970, 1969, 1968]  \n",
            "30                                             [1913]  \n",
            "31                                             [2015]  \n",
            "32   [1960, 1959, 1940, 1939, 1938, 1936, 1935, 1933]  \n",
            "33                                 [2011, 1994, 1982]  \n",
            "34                                 [1922, 1921, 1918]  \n",
            "35                                             [2018]  \n",
            "36                                       [1926, 1914]  \n",
            "37                                             [1998]  \n"
          ]
        }
      ],
      "source": [
        "import pandas as pd\n",
        "\n",
        "# Load the Excel file\n",
        "file_path = '/content/Stanely_cup_winners_by_year.xlsx'\n",
        "df = pd.read_excel(file_path)\n",
        "\n",
        "# Group by Runner up team and aggregate the years\n",
        "runner_up_data = df.groupby('Runner up').agg(\n",
        "    total_runner_up_finishes=('Year', 'count'),\n",
        "    years=('Year', lambda x: list(x))\n",
        ").reset_index()\n",
        "\n",
        "# Rename columns for clarity\n",
        "runner_up_data.columns = ['Team', 'Total number of runner-up finishes', 'Years']\n",
        "\n",
        "# Display the table\n",
        "print(runner_up_data)\n"
      ]
    },
    {
      "cell_type": "markdown",
      "id": "d197588b",
      "metadata": {
        "id": "d197588b"
      },
      "source": [
        "### <span style=\"color: red\"> Task 7:</span> With the help of matminer, 1. Retrive the 'steel_strength' dataset into a dataframe and clean your dataset (i.e., do some basic data exploration and analysis work on your data. For instance, check the statistics of the dataset, check for NaNs, drop duplicated data entries etc. It is alway the first thing to do before you start working on a dataset.) if needed; 2. Featurize the compositions of the materials; and 3. Perform correlation analysis and drop feature(s) with a coefficient greater than abs(0.8) from your dataframe."
      ]
    },
    {
      "cell_type": "markdown",
      "id": "a1c551d3",
      "metadata": {
        "id": "a1c551d3"
      },
      "source": [
        "### <span style=\"color: blue\"> Solution:</span>"
      ]
    },
    {
      "cell_type": "code",
      "execution_count": 7,
      "id": "t7CDKy_stGSk",
      "metadata": {
        "colab": {
          "base_uri": "https://localhost:8080/",
          "height": 1000
        },
        "id": "t7CDKy_stGSk",
        "outputId": "745309a4-a7f2-4e19-aa24-f3039a5407d3"
      },
      "outputs": [
        {
          "name": "stdout",
          "output_type": "stream",
          "text": [
            "                c          mn          si          cr          ni          mo  \\\n",
            "count  312.000000  312.000000  312.000000  312.000000  312.000000  312.000000   \n",
            "mean     0.096442    0.146250    0.221218    8.043830    8.184006    2.766090   \n",
            "std      0.109008    0.397102    0.580796    5.426169    6.337055    1.832908   \n",
            "min      0.000000    0.010000    0.010000    0.010000    0.010000    0.020000   \n",
            "25%      0.010000    0.010000    0.010000    3.100000    0.960000    1.500000   \n",
            "50%      0.030000    0.010000    0.010000    9.050000    8.500000    2.210000   \n",
            "75%      0.182500    0.080000    0.110000   12.520000   12.117500    4.090000   \n",
            "max      0.430000    3.000000    4.750000   17.500000   21.000000    9.670000   \n",
            "\n",
            "                v           n          nb          co           w          al  \\\n",
            "count  312.000000  312.000000  312.000000  312.000000  312.000000  312.000000   \n",
            "mean     0.183750    0.005545    0.035449    7.008782    0.161282    0.239135   \n",
            "std      0.452462    0.018331    0.161537    6.254431    0.920211    0.340110   \n",
            "min      0.000000    0.000000    0.000000    0.010000    0.000000    0.010000   \n",
            "25%      0.010000    0.000000    0.010000    0.010000    0.000000    0.030000   \n",
            "50%      0.010000    0.000000    0.010000    7.085000    0.000000    0.050000   \n",
            "75%      0.127500    0.000000    0.010000   13.480000    0.000000    0.300000   \n",
            "max      4.320000    0.150000    2.500000   20.100000    9.180000    1.800000   \n",
            "\n",
            "               ti  yield strength  tensile strength  elongation  \n",
            "count  312.000000      312.000000        312.000000  303.000000  \n",
            "mean     0.310897     1420.998397       1641.653205   14.007261  \n",
            "std      0.556593      301.894169        346.475179    5.095974  \n",
            "min      0.000000     1005.900000       1019.000000    2.000000  \n",
            "25%      0.000000     1219.475000       1338.125000   10.800000  \n",
            "50%      0.030000     1344.200000       1666.300000   14.800000  \n",
            "75%      0.232500     1576.075000       1899.950000   17.300000  \n",
            "max      2.500000     2510.300000       2570.000000   35.000000  \n",
            "<class 'pandas.core.frame.DataFrame'>\n",
            "Index: 312 entries, 0 to 311\n",
            "Data columns (total 17 columns):\n",
            " #   Column            Non-Null Count  Dtype  \n",
            "---  ------            --------------  -----  \n",
            " 0   formula           312 non-null    object \n",
            " 1   c                 312 non-null    float64\n",
            " 2   mn                312 non-null    float64\n",
            " 3   si                312 non-null    float64\n",
            " 4   cr                312 non-null    float64\n",
            " 5   ni                312 non-null    float64\n",
            " 6   mo                312 non-null    float64\n",
            " 7   v                 312 non-null    float64\n",
            " 8   n                 312 non-null    float64\n",
            " 9   nb                312 non-null    float64\n",
            " 10  co                312 non-null    float64\n",
            " 11  w                 312 non-null    float64\n",
            " 12  al                312 non-null    float64\n",
            " 13  ti                312 non-null    float64\n",
            " 14  yield strength    312 non-null    float64\n",
            " 15  tensile strength  312 non-null    float64\n",
            " 16  elongation        303 non-null    float64\n",
            "dtypes: float64(16), object(1)\n",
            "memory usage: 43.9+ KB\n",
            "None\n"
          ]
        },
        {
          "name": "stderr",
          "output_type": "stream",
          "text": [
            "ElementProperty: 100%|██████████| 312/312 [00:04<00:00, 73.26it/s]\n"
          ]
        },
        {
          "ename": "TypeError",
          "evalue": "ElementProperty.__init__() missing 1 required positional argument: 'stats'",
          "output_type": "error",
          "traceback": [
            "\u001b[1;31m---------------------------------------------------------------------------\u001b[0m",
            "\u001b[1;31mTypeError\u001b[0m                                 Traceback (most recent call last)",
            "Cell \u001b[1;32mIn[7], line 20\u001b[0m\n\u001b[0;32m     18\u001b[0m feat \u001b[38;5;241m=\u001b[39m ElementProperty\u001b[38;5;241m.\u001b[39mfrom_preset(\u001b[38;5;124m'\u001b[39m\u001b[38;5;124mmagpie\u001b[39m\u001b[38;5;124m'\u001b[39m)\n\u001b[0;32m     19\u001b[0m df \u001b[38;5;241m=\u001b[39m feat\u001b[38;5;241m.\u001b[39mfeaturize_dataframe(df, \u001b[38;5;124m'\u001b[39m\u001b[38;5;124mcomposition\u001b[39m\u001b[38;5;124m'\u001b[39m)\n\u001b[1;32m---> 20\u001b[0m \u001b[38;5;28mprint\u001b[39m(\u001b[43mElementProperty\u001b[49m\u001b[43m(\u001b[49m\u001b[43mdf\u001b[49m\u001b[43m,\u001b[49m\u001b[43mfeatures\u001b[49m\u001b[38;5;241;43m=\u001b[39;49m\u001b[38;5;124;43m'\u001b[39;49m\u001b[38;5;124;43mcomposition\u001b[39;49m\u001b[38;5;124;43m'\u001b[39;49m\u001b[43m)\u001b[49m)\n\u001b[0;32m     21\u001b[0m \u001b[38;5;66;03m# data.head()\u001b[39;00m\n\u001b[0;32m     22\u001b[0m \u001b[38;5;66;03m# Drop duplicated data entries\u001b[39;00m\n\u001b[0;32m     23\u001b[0m df \u001b[38;5;241m=\u001b[39m df\u001b[38;5;241m.\u001b[39mdrop_duplicates()\n",
            "\u001b[1;31mTypeError\u001b[0m: ElementProperty.__init__() missing 1 required positional argument: 'stats'"
          ]
        }
      ],
      "source": [
        "import pandas as pd\n",
        "from matminer.datasets import load_dataset\n",
        "import seaborn as sns\n",
        "import matplotlib.pyplot as plt\n",
        "\n",
        "\n",
        "# Step 1: Retrieve the 'steel_strength' dataset\n",
        "df = load_dataset('steel_strength')\n",
        "# del df['formula']\n",
        "# Basic data exploration and cleaning\n",
        "print(df.describe())  # Check statistics\n",
        "print(df.info())  # Check for NaNs and data types\n",
        "from pymatgen.core import Composition\n",
        "from matminer.featurizers.composition.composite import ElementProperty\n",
        "\n",
        "df['composition'] = df['formula'].apply(lambda x: Composition(x))\n",
        "\n",
        "feat = ElementProperty.from_preset('magpie')\n",
        "df = feat.featurize_dataframe(df, 'composition')\n",
        "print(ElementProperty(df,features='composition'))\n",
        "# data.head()\n",
        "# Drop duplicated data entries\n",
        "df = df.drop_duplicates()\n",
        "\n",
        "# Drop rows with NaN values\n",
        "df = df.dropna()\n",
        "print(df['composition'])\n",
        "# Step 2: Perform correlation analysis\n",
        "# Calculate the correlation matrix\n",
        "del df['formula']\n",
        "corr_matrix = df.corr().abs()\n",
        "\n",
        "# Plot the heatmap of the correlation matrix\n",
        "plt.figure(figsize=(12, 10))\n",
        "sns.heatmap(corr_matrix, annot=True, cmap='coolwarm')\n",
        "plt.show()\n",
        "\n",
        "# Identify features with correlation coefficient greater than 0.8\n",
        "high_corr_features = [column for column in corr_matrix.columns if any(corr_matrix[column] > 0.8) and column != 'strength']\n",
        "\n",
        "# Drop highly correlated features\n",
        "df = df.drop(columns=high_corr_features)\n",
        "\n",
        "# Display the cleaned dataframe\n",
        "print(df.head())\n"
      ]
    }
  ],
  "metadata": {
    "colab": {
      "provenance": []
    },
    "kernelspec": {
      "display_name": "Python 3 (ipykernel)",
      "language": "python",
      "name": "python3"
    },
    "language_info": {
      "codemirror_mode": {
        "name": "ipython",
        "version": 3
      },
      "file_extension": ".py",
      "mimetype": "text/x-python",
      "name": "python",
      "nbconvert_exporter": "python",
      "pygments_lexer": "ipython3",
      "version": "3.12.5"
    }
  },
  "nbformat": 4,
  "nbformat_minor": 5
}
