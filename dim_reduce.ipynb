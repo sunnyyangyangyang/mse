{
 "cells": [
  {
   "cell_type": "code",
   "execution_count": 3,
   "metadata": {},
   "outputs": [],
   "source": [
    "import pandas as pd\n",
    "# from pandas import DataFrame as df\n",
    "from sklearn.preprocessing import StandardScaler\n",
    "from sklearn.decomposition import PCA"
   ]
  },
  {
   "cell_type": "code",
   "execution_count": 5,
   "metadata": {},
   "outputs": [],
   "source": [
    "df = pd.read_csv('data/featurized_matbench_expt_gap.csv')"
   ]
  },
  {
   "cell_type": "code",
   "execution_count": 11,
   "metadata": {},
   "outputs": [
    {
     "ename": "AttributeError",
     "evalue": "'DataFrame' object has no attribute 'axis'",
     "output_type": "error",
     "traceback": [
      "\u001b[1;31m---------------------------------------------------------------------------\u001b[0m",
      "\u001b[1;31mAttributeError\u001b[0m                            Traceback (most recent call last)",
      "\u001b[1;32m~\\AppData\\Local\\Temp\\ipykernel_14688\\244156371.py\u001b[0m in \u001b[0;36m?\u001b[1;34m()\u001b[0m\n\u001b[1;32m----> 1\u001b[1;33m \u001b[0mdf\u001b[0m\u001b[1;33m.\u001b[0m\u001b[0maxis\u001b[0m\u001b[1;33m\u001b[0m\u001b[1;33m\u001b[0m\u001b[0m\n\u001b[0m",
      "\u001b[1;32mc:\\Users\\yxh99\\OneDrive\\Documents\\mse\\.conda\\Lib\\site-packages\\pandas\\core\\generic.py\u001b[0m in \u001b[0;36m?\u001b[1;34m(self, name)\u001b[0m\n\u001b[0;32m   6295\u001b[0m             \u001b[1;32mand\u001b[0m \u001b[0mname\u001b[0m \u001b[1;32mnot\u001b[0m \u001b[1;32min\u001b[0m \u001b[0mself\u001b[0m\u001b[1;33m.\u001b[0m\u001b[0m_accessors\u001b[0m\u001b[1;33m\u001b[0m\u001b[1;33m\u001b[0m\u001b[0m\n\u001b[0;32m   6296\u001b[0m             \u001b[1;32mand\u001b[0m \u001b[0mself\u001b[0m\u001b[1;33m.\u001b[0m\u001b[0m_info_axis\u001b[0m\u001b[1;33m.\u001b[0m\u001b[0m_can_hold_identifiers_and_holds_name\u001b[0m\u001b[1;33m(\u001b[0m\u001b[0mname\u001b[0m\u001b[1;33m)\u001b[0m\u001b[1;33m\u001b[0m\u001b[1;33m\u001b[0m\u001b[0m\n\u001b[0;32m   6297\u001b[0m         \u001b[1;33m)\u001b[0m\u001b[1;33m:\u001b[0m\u001b[1;33m\u001b[0m\u001b[1;33m\u001b[0m\u001b[0m\n\u001b[0;32m   6298\u001b[0m             \u001b[1;32mreturn\u001b[0m \u001b[0mself\u001b[0m\u001b[1;33m[\u001b[0m\u001b[0mname\u001b[0m\u001b[1;33m]\u001b[0m\u001b[1;33m\u001b[0m\u001b[1;33m\u001b[0m\u001b[0m\n\u001b[1;32m-> 6299\u001b[1;33m         \u001b[1;32mreturn\u001b[0m \u001b[0mobject\u001b[0m\u001b[1;33m.\u001b[0m\u001b[0m__getattribute__\u001b[0m\u001b[1;33m(\u001b[0m\u001b[0mself\u001b[0m\u001b[1;33m,\u001b[0m \u001b[0mname\u001b[0m\u001b[1;33m)\u001b[0m\u001b[1;33m\u001b[0m\u001b[1;33m\u001b[0m\u001b[0m\n\u001b[0m",
      "\u001b[1;31mAttributeError\u001b[0m: 'DataFrame' object has no attribute 'axis'"
     ]
    }
   ],
   "source": [
    "df.axis"
   ]
  },
  {
   "cell_type": "code",
   "execution_count": 18,
   "metadata": {},
   "outputs": [],
   "source": [
    "df=df.drop(columns='composition')"
   ]
  },
  {
   "cell_type": "code",
   "execution_count": 19,
   "metadata": {},
   "outputs": [
    {
     "data": {
      "text/plain": [
       "Index(['gap expt', 'MagpieData minimum Number', 'MagpieData maximum Number',\n",
       "       'MagpieData range Number', 'MagpieData mean Number',\n",
       "       'MagpieData avg_dev Number', 'MagpieData mode Number',\n",
       "       'MagpieData minimum MendeleevNumber',\n",
       "       'MagpieData maximum MendeleevNumber',\n",
       "       'MagpieData range MendeleevNumber',\n",
       "       ...\n",
       "       'MagpieData range GSmagmom', 'MagpieData mean GSmagmom',\n",
       "       'MagpieData avg_dev GSmagmom', 'MagpieData mode GSmagmom',\n",
       "       'MagpieData minimum SpaceGroupNumber',\n",
       "       'MagpieData maximum SpaceGroupNumber',\n",
       "       'MagpieData range SpaceGroupNumber', 'MagpieData mean SpaceGroupNumber',\n",
       "       'MagpieData avg_dev SpaceGroupNumber',\n",
       "       'MagpieData mode SpaceGroupNumber'],\n",
       "      dtype='object', length=133)"
      ]
     },
     "execution_count": 19,
     "metadata": {},
     "output_type": "execute_result"
    }
   ],
   "source": [
    "df.columns"
   ]
  },
  {
   "cell_type": "code",
   "execution_count": 21,
   "metadata": {},
   "outputs": [],
   "source": [
    "scaler = StandardScaler()\n",
    "x_std = scaler.fit_transform(df)"
   ]
  },
  {
   "cell_type": "code",
   "execution_count": 22,
   "metadata": {},
   "outputs": [
    {
     "data": {
      "text/plain": [
       "array([[-0.67545617, -0.2185692 ,  1.10934176, ...,  0.42721333,\n",
       "         0.66102419, -0.38889988],\n",
       "       [-0.67545617,  1.06764401,  0.84612208, ..., -0.36677865,\n",
       "         0.62256029, -0.45825858],\n",
       "       [ 0.59108729, -0.2185692 ,  1.26727357, ...,  0.00466751,\n",
       "         0.727157  , -0.38889988],\n",
       "       ...,\n",
       "       [-0.67545617, -0.76013265, -0.94377178, ...,  0.16668471,\n",
       "         0.48190353,  1.04451341],\n",
       "       [-0.67545617, -0.69243722, -0.94377178, ..., -1.42793011,\n",
       "         0.44913756, -1.02468802],\n",
       "       [-0.67545617,  1.40612117,  0.84612208, ...,  1.403447  ,\n",
       "        -1.05283853,  1.44910587]])"
      ]
     },
     "execution_count": 22,
     "metadata": {},
     "output_type": "execute_result"
    }
   ],
   "source": [
    "x_std"
   ]
  },
  {
   "cell_type": "code",
   "execution_count": 24,
   "metadata": {},
   "outputs": [],
   "source": [
    "y=PCA(len(df.columns))"
   ]
  },
  {
   "cell_type": "code",
   "execution_count": 25,
   "metadata": {},
   "outputs": [
    {
     "data": {
      "text/plain": [
       "array([[ 6.19047252e-01,  2.23238120e+00,  3.00116085e+00, ...,\n",
       "         1.65714027e-13, -4.59668218e-14, -7.89377741e-14],\n",
       "       [-1.62896450e-01,  2.75900554e+00,  2.72111295e+00, ...,\n",
       "         7.97741735e-14, -1.27971355e-14, -1.59605613e-14],\n",
       "       [-8.49733993e-01,  4.54247721e+00,  3.22840682e+00, ...,\n",
       "        -8.50422230e-15, -4.81070269e-15, -5.51824709e-14],\n",
       "       ...,\n",
       "       [-7.75119514e-01, -4.30155159e+00, -3.43387699e+00, ...,\n",
       "         8.30432408e-14, -1.68674497e-15, -1.13212019e-13],\n",
       "       [-8.11775938e+00,  1.98238757e-01, -1.91086145e+00, ...,\n",
       "        -9.06595604e-14,  2.35786504e-14,  5.45370634e-14],\n",
       "       [ 1.25933684e+01, -3.43527908e+00, -2.08936249e-01, ...,\n",
       "         1.99576213e-13, -3.59173926e-14, -1.18984081e-13]])"
      ]
     },
     "execution_count": 25,
     "metadata": {},
     "output_type": "execute_result"
    }
   ],
   "source": [
    "y.fit_transform(x_std)"
   ]
  },
  {
   "cell_type": "code",
   "execution_count": 26,
   "metadata": {},
   "outputs": [
    {
     "data": {
      "text/plain": [
       "array([1.92808449e-01, 1.18328850e-01, 9.01437106e-02, 8.00184575e-02,\n",
       "       5.93073528e-02, 4.15106708e-02, 3.43340921e-02, 2.92807598e-02,\n",
       "       2.80981497e-02, 2.46347242e-02, 2.33874335e-02, 1.99585872e-02,\n",
       "       1.81600391e-02, 1.73139590e-02, 1.43896014e-02, 1.37392809e-02,\n",
       "       1.25435158e-02, 1.18275441e-02, 1.08500382e-02, 9.60723920e-03,\n",
       "       8.80097223e-03, 7.81280752e-03, 7.64514400e-03, 7.38060349e-03,\n",
       "       7.07435840e-03, 6.80800237e-03, 6.65295078e-03, 6.23218196e-03,\n",
       "       5.74444806e-03, 5.39245047e-03, 5.37158127e-03, 5.14371505e-03,\n",
       "       4.73691447e-03, 4.51044598e-03, 4.33858895e-03, 3.90097821e-03,\n",
       "       3.52817288e-03, 3.30103720e-03, 3.00309798e-03, 2.76663628e-03,\n",
       "       2.62028075e-03, 2.27199900e-03, 1.99924844e-03, 1.86589944e-03,\n",
       "       1.77999895e-03, 1.70425806e-03, 1.62632511e-03, 1.54500809e-03,\n",
       "       1.51303823e-03, 1.42169553e-03, 1.31494513e-03, 1.30089473e-03,\n",
       "       1.10995709e-03, 1.00672101e-03, 9.77529984e-04, 9.25115783e-04,\n",
       "       8.91254480e-04, 8.66959232e-04, 8.01381623e-04, 7.38612846e-04,\n",
       "       6.88573656e-04, 6.68152007e-04, 6.41244229e-04, 6.20168744e-04,\n",
       "       5.87018077e-04, 5.62917409e-04, 5.09488461e-04, 4.81460745e-04,\n",
       "       4.47859317e-04, 4.20504430e-04, 4.04282324e-04, 3.85012630e-04,\n",
       "       3.67577267e-04, 3.57564171e-04, 3.39205804e-04, 2.94794464e-04,\n",
       "       2.84500490e-04, 2.59864067e-04, 2.48476136e-04, 2.27008541e-04,\n",
       "       2.18854334e-04, 1.96329900e-04, 1.88788969e-04, 1.74468227e-04,\n",
       "       1.63265217e-04, 1.60861810e-04, 1.37361400e-04, 1.30515712e-04,\n",
       "       1.26460778e-04, 1.24944566e-04, 1.15132689e-04, 1.07890080e-04,\n",
       "       9.67407588e-05, 9.04027094e-05, 8.31466291e-05, 6.90115124e-05,\n",
       "       6.44822297e-05, 5.60624418e-05, 5.19060315e-05, 4.77053034e-05,\n",
       "       4.49138464e-05, 3.23255464e-05, 2.80013743e-05, 1.15015420e-05,\n",
       "       8.52034499e-06, 2.67443401e-06, 2.01597231e-06, 1.18326067e-06,\n",
       "       1.93228725e-07, 1.54917984e-17, 1.23092619e-17, 1.11436396e-17,\n",
       "       9.39226339e-18, 9.23152206e-18, 8.56672056e-18, 5.53893378e-18,\n",
       "       5.00707831e-18, 3.77669942e-18, 3.20651488e-18, 2.46755921e-18,\n",
       "       1.42455213e-18, 6.76752070e-19, 8.18538525e-20, 0.00000000e+00,\n",
       "       0.00000000e+00, 0.00000000e+00, 0.00000000e+00, 0.00000000e+00,\n",
       "       0.00000000e+00, 0.00000000e+00, 0.00000000e+00, 0.00000000e+00,\n",
       "       0.00000000e+00])"
      ]
     },
     "execution_count": 26,
     "metadata": {},
     "output_type": "execute_result"
    }
   ],
   "source": [
    "y.explained_variance_ratio_"
   ]
  },
  {
   "cell_type": "code",
   "execution_count": null,
   "metadata": {},
   "outputs": [],
   "source": []
  }
 ],
 "metadata": {
  "kernelspec": {
   "display_name": "Python 3",
   "language": "python",
   "name": "python3"
  },
  "language_info": {
   "codemirror_mode": {
    "name": "ipython",
    "version": 3
   },
   "file_extension": ".py",
   "mimetype": "text/x-python",
   "name": "python",
   "nbconvert_exporter": "python",
   "pygments_lexer": "ipython3",
   "version": "3.12.5"
  }
 },
 "nbformat": 4,
 "nbformat_minor": 2
}
