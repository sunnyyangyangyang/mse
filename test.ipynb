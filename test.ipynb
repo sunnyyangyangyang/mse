{
 "cells": [
  {
   "cell_type": "code",
   "execution_count": 1,
   "metadata": {},
   "outputs": [
    {
     "ename": "TypeError",
     "evalue": "'dia_matrix' object is not subscriptable",
     "output_type": "error",
     "traceback": [
      "\u001b[1;31m---------------------------------------------------------------------------\u001b[0m",
      "\u001b[1;31mTypeError\u001b[0m                                 Traceback (most recent call last)",
      "Cell \u001b[1;32mIn[1], line 24\u001b[0m\n\u001b[0;32m     22\u001b[0m \u001b[38;5;66;03m# Fill in the coefficient matrix and right-hand side vector\u001b[39;00m\n\u001b[0;32m     23\u001b[0m \u001b[38;5;28;01mfor\u001b[39;00m i \u001b[38;5;129;01min\u001b[39;00m \u001b[38;5;28mrange\u001b[39m(\u001b[38;5;241m1\u001b[39m, N\u001b[38;5;241m-\u001b[39m\u001b[38;5;241m1\u001b[39m):\n\u001b[1;32m---> 24\u001b[0m     \u001b[43mA\u001b[49m\u001b[43m[\u001b[49m\u001b[43mi\u001b[49m\u001b[38;5;241;43m-\u001b[39;49m\u001b[38;5;241;43m1\u001b[39;49m\u001b[43m,\u001b[49m\u001b[43m \u001b[49m\u001b[43mi\u001b[49m\u001b[43m]\u001b[49m \u001b[38;5;241m-\u001b[39m\u001b[38;5;241m=\u001b[39m \u001b[38;5;241m1\u001b[39m \u001b[38;5;241m/\u001b[39m (x[\u001b[38;5;241m2\u001b[39m]\u001b[38;5;241m-\u001b[39mx[\u001b[38;5;241m1\u001b[39m])\n\u001b[0;32m     25\u001b[0m     A[i\u001b[38;5;241m+\u001b[39m\u001b[38;5;241m1\u001b[39m, i] \u001b[38;5;241m-\u001b[39m\u001b[38;5;241m=\u001b[39m \u001b[38;5;241m1\u001b[39m \u001b[38;5;241m/\u001b[39m (x[\u001b[38;5;241m2\u001b[39m]\u001b[38;5;241m-\u001b[39mx[\u001b[38;5;241m1\u001b[39m])\n\u001b[0;32m     26\u001b[0m     b[i\u001b[38;5;241m-\u001b[39m\u001b[38;5;241m1\u001b[39m] \u001b[38;5;241m+\u001b[39m\u001b[38;5;241m=\u001b[39m g_left \u001b[38;5;241m*\u001b[39m (y[i]\u001b[38;5;241m-\u001b[39my[i\u001b[38;5;241m-\u001b[39m\u001b[38;5;241m1\u001b[39m]) \u001b[38;5;241m/\u001b[39m (x[\u001b[38;5;241m2\u001b[39m]\u001b[38;5;241m-\u001b[39mx[\u001b[38;5;241m1\u001b[39m])\n",
      "\u001b[1;31mTypeError\u001b[0m: 'dia_matrix' object is not subscriptable"
     ]
    }
   ],
   "source": [
    "import numpy as np\n",
    "from scipy import sparse, linalg\n",
    "import matplotlib.pyplot as plt\n",
    "from mpl_toolkits.mplot3d import Axes3D\n",
    "\n",
    "# Number of grid points\n",
    "N = 100\n",
    "h = 1.0 / N\n",
    "\n",
    "# Create a list to store all the elements in the coefficient matrix and their coordinates\n",
    "coeffs = []\n",
    "rows = []\n",
    "cols = []\n",
    "\n",
    "for i in range(N+1):\n",
    "    for j in range(N+1):\n",
    "        if i == 0 or i == N or j == 0 or j == N: # boundary conditions\n",
    "            coeffs.append(1)\n",
    "            rows.append(i*(N+1)+j)\n",
    "            cols.append(i*(N+1)+j)\n",
    "        else:\n",
    "            # Central grid point with four neighbors\n",
    "            coeffs.extend([4, -1, -1, -1, -1]) # diagonals and center point\n",
    "            rows.extend([i*(N+1)+j]*5) # the row index\n",
    "            cols.extend([i*(N+1)+j, i*(N+1)+j-1, (i-1)*(N+1)+j, (i+1)*(N+1)+j, i*(N+1)+j+1]) # the column index\n",
    "\n",
    "# Convert to CSR sparse matrix\n",
    "A = sparse.csr_matrix((coeffs, (rows, cols)))\n",
    "\n",
    "# Right-hand side vector\n",
    "b = np.zeros(((N+1)**2))\n",
    "b[(N//2)*(N+1):(N//2+1)*(N+1)] = np.sin(np.pi * np.arange((N+1))/N) \n",
    "\n",
    "# Solve the system using direct method (LU decomposition)\n",
    "u = linalg.solve(A, b)\n",
    "\n",
    "# Reshape to a matrix for plotting\n",
    "u_reshaped = u.reshape((N+1, N+1))\n",
    "\n",
    "# Create X and Y coordinate matrices\n",
    "X = np.linspace(0, 1, N+1)\n",
    "Y = np.linspace(0, 1, N+1)\n",
    "X, Y = np.meshgrid(X, Y)\n",
    "\n",
    "# Plot the surface\n",
    "fig = plt.figure()\n",
    "ax = fig.add_subplot(111, projection='3d')\n",
    "ax.plot_surface(X, Y, u_reshaped, rstride=5, cstride=5, alpha=0.7)\n",
    "plt.show()\n"
   ]
  }
 ],
 "metadata": {
  "kernelspec": {
   "display_name": "Python 3",
   "language": "python",
   "name": "python3"
  },
  "language_info": {
   "codemirror_mode": {
    "name": "ipython",
    "version": 3
   },
   "file_extension": ".py",
   "mimetype": "text/x-python",
   "name": "python",
   "nbconvert_exporter": "python",
   "pygments_lexer": "ipython3",
   "version": "3.12.5"
  }
 },
 "nbformat": 4,
 "nbformat_minor": 2
}
