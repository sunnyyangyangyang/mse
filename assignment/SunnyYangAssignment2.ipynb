{
 "cells": [
  {
   "cell_type": "code",
   "execution_count": 1,
   "metadata": {},
   "outputs": [
    {
     "data": {
      "text/html": [
       "<div>\n",
       "<style scoped>\n",
       "    .dataframe tbody tr th:only-of-type {\n",
       "        vertical-align: middle;\n",
       "    }\n",
       "\n",
       "    .dataframe tbody tr th {\n",
       "        vertical-align: top;\n",
       "    }\n",
       "\n",
       "    .dataframe thead th {\n",
       "        text-align: right;\n",
       "    }\n",
       "</style>\n",
       "<table border=\"1\" class=\"dataframe\">\n",
       "  <thead>\n",
       "    <tr style=\"text-align: right;\">\n",
       "      <th></th>\n",
       "      <th>structure</th>\n",
       "      <th>gap pbe</th>\n",
       "    </tr>\n",
       "  </thead>\n",
       "  <tbody>\n",
       "    <tr>\n",
       "      <th>0</th>\n",
       "      <td>[[-0.00812638  0.02476014 -0.01698117] K, [-0....</td>\n",
       "      <td>1.3322</td>\n",
       "    </tr>\n",
       "    <tr>\n",
       "      <th>1</th>\n",
       "      <td>[[0.         1.78463544 1.78463544] Cr, [1.784...</td>\n",
       "      <td>0.0000</td>\n",
       "    </tr>\n",
       "    <tr>\n",
       "      <th>2</th>\n",
       "      <td>[[-2.13764909 -2.12540569 -2.14704542] Cs, [-6...</td>\n",
       "      <td>0.0000</td>\n",
       "    </tr>\n",
       "    <tr>\n",
       "      <th>3</th>\n",
       "      <td>[[0. 0. 0.] Si, [ 4.55195829  4.55195829 -4.55...</td>\n",
       "      <td>0.4113</td>\n",
       "    </tr>\n",
       "    <tr>\n",
       "      <th>4</th>\n",
       "      <td>[[0.    2.655 2.655] Ca, [2.655 0.    2.655] C...</td>\n",
       "      <td>0.3514</td>\n",
       "    </tr>\n",
       "  </tbody>\n",
       "</table>\n",
       "</div>"
      ],
      "text/plain": [
       "                                           structure  gap pbe\n",
       "0  [[-0.00812638  0.02476014 -0.01698117] K, [-0....   1.3322\n",
       "1  [[0.         1.78463544 1.78463544] Cr, [1.784...   0.0000\n",
       "2  [[-2.13764909 -2.12540569 -2.14704542] Cs, [-6...   0.0000\n",
       "3  [[0. 0. 0.] Si, [ 4.55195829  4.55195829 -4.55...   0.4113\n",
       "4  [[0.    2.655 2.655] Ca, [2.655 0.    2.655] C...   0.3514"
      ]
     },
     "execution_count": 1,
     "metadata": {},
     "output_type": "execute_result"
    }
   ],
   "source": [
    "#visulize the dataset \"matbench_mp_gap\" from matbench via matminer\n",
    "from matminer.datasets import load_dataset\n",
    "#load the dataset\n",
    "data = load_dataset(\"matbench_mp_gap\")\n",
    "#print first 5 rows of dataframe to visualize its structure\n",
    "#visualize the structure of the data\n",
    "data.head()"
   ]
  },
  {
   "cell_type": "code",
   "execution_count": 3,
   "metadata": {},
   "outputs": [
    {
     "data": {
      "text/plain": [
       "Index(['structure', 'gap pbe'], dtype='object')"
      ]
     },
     "execution_count": 3,
     "metadata": {},
     "output_type": "execute_result"
    }
   ],
   "source": [
    "#print the list of columns of data \n",
    "data.columns"
   ]
  },
  {
   "cell_type": "code",
   "execution_count": 4,
   "metadata": {},
   "outputs": [
    {
     "data": {
      "image/png": "[encoded data removed]",
      "text/plain": [
       "<Figure size 640x480 with 1 Axes>"
      ]
     },
     "metadata": {},
     "output_type": "display_data"
    }
   ],
   "source": [
    "#plotting the histogram for 'gap pbe' column\n",
    "import matplotlib.pyplot as plt\n",
    "plt.hist(data['gap pbe'], bins=10)\n",
    "plt.xlabel('Gap PBE')\n",
    "plt.ylabel('Frequency')\n",
    "plt.title('Histogram of Gap PBE in matbench_mp_gap dataset')\n",
    "plt.show()"
   ]
  },
  {
   "cell_type": "code",
   "execution_count": 10,
   "metadata": {},
   "outputs": [
    {
     "name": "stderr",
     "output_type": "stream",
     "text": [
      "  0%|          | 0/106 [00:00<?, ?it/s]d:\\mse\\.venv\\Lib\\site-packages\\pymatgen\\analysis\\local_env.py:4158: UserWarning: No oxidation states specified on sites! For better results, set the site oxidation states in the structure.\n",
      "  warnings.warn(\n",
      "d:\\mse\\.venv\\Lib\\site-packages\\pymatgen\\analysis\\local_env.py:3951: UserWarning: CrystalNN: cannot locate an appropriate radius, covalent or atomic radii will be used, this can lead to non-optimal results.\n",
      "  warnings.warn(\n",
      "100%|██████████| 106/106 [01:14<00:00,  1.42it/s]\n"
     ]
    }
   ],
   "source": [
    "# Instantiating multple featurizer and featurize the data\n",
    "# Randomly sampling 1% samples from the dataset due to its large size\n",
    "# List of featurizers are provided Bing AI\n",
    "import pandas as pd\n",
    "from tqdm import tqdm\n",
    "from matminer.featurizers.structure import (\n",
    "    ChemicalOrdering,\n",
    "    DensityFeatures,\n",
    "    Dimensionality,\n",
    "    GlobalSymmetryFeatures,\n",
    "    JarvisCFID,\n",
    "    MaximumPackingEfficiency,\n",
    "    SiteStatsFingerprint,\n",
    "    StructuralComplexity,\n",
    "    StructuralHeterogeneity\n",
    ")\n",
    "from matminer.featurizers.base import MultipleFeaturizer\n",
    "from pymatgen.core import Structure\n",
    "# Combine all the featurizers into a MultipleFeaturizer\n",
    "featurizer = MultipleFeaturizer([\n",
    "    ChemicalOrdering(),\n",
    "    DensityFeatures(),\n",
    "    Dimensionality(),\n",
    "    GlobalSymmetryFeatures(),\n",
    "    # JarvisCFID(),\n",
    "    MaximumPackingEfficiency(),\n",
    "    # SiteStatsFingerprint.from_preset(\"CrystalNNFingerprint_ops\"),  # Example preset\n",
    "    StructuralComplexity(),\n",
    "    StructuralHeterogeneity()\n",
    "])\n",
    "\n",
    "# Randomly sampling 0.1% samples (row) from data dataframe\n",
    "sample_data = data.sample(frac=1e-3, random_state=312)\n",
    "\n",
    "\n",
    "\n",
    "# Featurize the structure\n",
    "# Drop sample that contains NaN in the featurized value or sample that is too large\n",
    "\n",
    "def try_input(func, x:Structure):\n",
    "    if len(x.cart_coords)>50:\n",
    "        return None\n",
    "    try: \n",
    "        return func(x)\n",
    "    except: \n",
    "        return None\n",
    "\n",
    "\n",
    "features = [try_input(featurizer.featurize, i) for i in tqdm(sample_data['structure'])]\n",
    "# Remove missing values from features list\n",
    "features = [f for f in features if f is not None]\n",
    "\n",
    "# df = pd.DataFrame(features,columns=['ChemicalOrdering','DensityFeatures',\n",
    "#  'Dimensionality','GlobalSymmetryFeatures',\n",
    "#  'JarvisCFID','MaximumPackingEfficiency',\n",
    "#  'SiteStatsFingerprint','StructuralComplexity',\n",
    "#  'StructuralHeterogeneity'\n",
    "# ])\n"
   ]
  },
  {
   "cell_type": "code",
   "execution_count": 11,
   "metadata": {},
   "outputs": [],
   "source": [
    "lens = [len(i) for i in features]"
   ]
  },
  {
   "cell_type": "code",
   "execution_count": 9,
   "metadata": {},
   "outputs": [
    {
     "name": "stderr",
     "output_type": "stream",
     "text": [
      "d:\\mse\\.venv\\Lib\\site-packages\\pymatgen\\analysis\\local_env.py:4158: UserWarning: No oxidation states specified on sites! For better results, set the site oxidation states in the structure.\n",
      "  warnings.warn(\n",
      "d:\\mse\\.venv\\Lib\\site-packages\\pymatgen\\analysis\\local_env.py:3951: UserWarning: CrystalNN: cannot locate an appropriate radius, covalent or atomic radii will be used, this can lead to non-optimal results.\n",
      "  warnings.warn(\n"
     ]
    },
    {
     "name": "stdout",
     "output_type": "stream",
     "text": [
      "[[0.7836410597029336, 0.5435888540503624, 0.39397838004412283], [3.781313307099553, 13.836877893994732, 1.046222931115452], [3], [119, 'tetragonal', 4, False, 8], [0.3880733265392723], (2.0, 32.0), [0.06082437426330586, 1.1216933010430052, 0.9038995276501245, 0.08921731745819841, 0.1353547871920996, 0.046137469733901176, 0.11287686695392088, 0.013465773383511598, 0.12211629611326867]]\n"
     ]
    }
   ],
   "source": [
    "\n",
    "# Define the featurizers\n",
    "featurizers = [\n",
    "    ChemicalOrdering(),\n",
    "    DensityFeatures(),\n",
    "    Dimensionality(),\n",
    "    GlobalSymmetryFeatures(),\n",
    "    MaximumPackingEfficiency(),\n",
    "    StructuralComplexity(),\n",
    "    StructuralHeterogeneity()\n",
    "]\n",
    "\n",
    "# Featurize the input 'x' and collect results in a list\n",
    "features_list = []\n",
    "for featurizer in featurizers:\n",
    "    features = featurizer.featurize(data['structure'][0])\n",
    "    features_list.append(features)\n",
    "\n",
    "# Print the result\n",
    "print(features_list)\n"
   ]
  }
 ],
 "metadata": {
  "kernelspec": {
   "display_name": ".venv",
   "language": "python",
   "name": "python3"
  },
  "language_info": {
   "codemirror_mode": {
    "name": "ipython",
    "version": 3
   },
   "file_extension": ".py",
   "mimetype": "text/x-python",
   "name": "python",
   "nbconvert_exporter": "python",
   "pygments_lexer": "ipython3",
   "version": "3.12.5"
  }
 },
 "nbformat": 4,
 "nbformat_minor": 2
}
